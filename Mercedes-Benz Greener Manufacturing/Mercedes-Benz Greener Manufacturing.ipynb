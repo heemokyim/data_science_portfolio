{
 "cells": [
  {
   "cell_type": "code",
   "execution_count": 30,
   "metadata": {
    "collapsed": false,
    "deletable": true,
    "editable": true
   },
   "outputs": [],
   "source": [
    "import pandas as pd\n",
    "import numpy as np\n",
    "from sklearn.metrics import r2_score\n",
    "from sklearn.ensemble import RandomForestRegressor\n",
    "from sklearn.decomposition import PCA, FastICA\n",
    "from sklearn.linear_model import Ridge, RidgeCV, ElasticNet, ElasticNetCV\n",
    "from sklearn.model_selection import cross_val_score, KFold\n",
    "from sklearn.pipeline import make_pipeline, Pipeline, _name_estimators\n",
    "from sklearn.base import BaseEstimator, TransformerMixin, clone\n",
    "from sklearn.cross_validation import cross_val_score\n",
    "from sklearn.grid_search import GridSearchCV\n",
    "from sklearn.preprocessing import LabelEncoder, StandardScaler\n",
    "import xgboost as xgb\n",
    "import seaborn as sns\n",
    "import time\n",
    "import matplotlib.pyplot as plt\n",
    "from boruta import BorutaPy\n",
    "from skmca import MCA\n",
    "import warnings\n",
    "warnings.filterwarnings('ignore')\n",
    "\n",
    "%matplotlib inline\n",
    "%config InlineBackend.figure_format = 'retina'\n",
    "\n",
    "t0 = time.time()"
   ]
  },
  {
   "cell_type": "code",
   "execution_count": 31,
   "metadata": {
    "collapsed": false,
    "deletable": true,
    "editable": true
   },
   "outputs": [],
   "source": [
    "def xgb_r2_score(preds, dtrain):\n",
    "    labels = dtrain.get_label()\n",
    "    return 'r2', r2_score(labels, preds)\n",
    "\n",
    "def column_name(method, n_components):\n",
    "    columns = []\n",
    "    for i in range(n_components):\n",
    "        name = method + str(i)\n",
    "        columns.append(name)\n",
    "    return columns\n",
    "\n",
    "def generate_decomp(dtrain, dtest, n_components=5, random_state=420):\n",
    "    '''\n",
    "    Generate PCA, MCA values without 'ID' feature\n",
    "    '''\n",
    "    pca = PCA(n_components=n_components, random_state=random_state)\n",
    "    train_pca = pca.fit_transform(dtrain[dtrain.columns[1:]])\n",
    "    test_pca = pca.transform(dtest[dtest.columns[1:]])\n",
    "    train_pca = pd.DataFrame(train_pca)\n",
    "    test_pca = pd.DataFrame(test_pca)\n",
    "    train_pca.columns = column_name('pca', n_components)\n",
    "    test_pca.columns = column_name('pca', n_components)\n",
    "    \n",
    "    mca = MCA(n_components=n_components)\n",
    "    binary_df = all_features_df[all_features_df.columns[1:]].apply(lambda x: x.astype('category'))\n",
    "    binary_df_mca = pd.DataFrame(mca.fit_transform(binary_df))\n",
    "    train_mca = binary_df_mca[:len(train)]\n",
    "    test_mca  = binary_df_mca[len(train):]\n",
    "    test_mca.index = range(test_mca.shape[0])\n",
    "    train_mca.columns = column_name('mca', n_components)\n",
    "    test_mca.columns  = column_name('mca', n_components)\n",
    "    \n",
    "    return train_pca, test_pca, train_mca, test_mca\n",
    "\n",
    "def load_data(drop=False, outlier=False, encode=False) : \n",
    "    train = pd.read_csv(\"./Data/train.csv\")\n",
    "    test = pd.read_csv(\"./Data/test.csv\")\n",
    "    if outlier : \n",
    "        train = train[train['y'] < 200]\n",
    "        train.index = range(train.shape[0])\n",
    "    if encode :\n",
    "        for c in train.columns:\n",
    "            if train[c].dtype == 'object' :\n",
    "                lbl = LabelEncoder()\n",
    "                lbl.fit(list(train[c].values) + list(test[c].values))\n",
    "                train[c] = lbl.transform(list(train[c].values))\n",
    "                test[c]  = lbl.transform(list(test[c].values))\n",
    "    if drop : \n",
    "        train.drop(['y'], axis=1, inplace=True)\n",
    "    return train, test"
   ]
  },
  {
   "cell_type": "code",
   "execution_count": 32,
   "metadata": {
    "collapsed": false,
    "deletable": true,
    "editable": true
   },
   "outputs": [],
   "source": [
    "# Load data\n",
    "train, test = load_data()\n",
    "\n",
    "target = train['y'].values\n",
    "id_test = test['ID']\n",
    "\n",
    "num_train = len(train)\n",
    "df_all = pd.concat([train, test], axis=0, ignore_index=True)"
   ]
  },
  {
   "cell_type": "code",
   "execution_count": 33,
   "metadata": {
    "collapsed": false,
    "deletable": true,
    "editable": true
   },
   "outputs": [],
   "source": [
    "X0Mean = pd.DataFrame({'X0' : train.groupby(['X0']).mean()['y'].index,\n",
    "             'X0_mean' : train.groupby(['X0'], as_index=False).mean()['y']})\n",
    "mean_joined = df_all.join(X0Mean.set_index('X0'), on='X0')\n",
    "mean_joined['X0_mean'] = mean_joined['X0_mean'].fillna(np.nanmean(mean_joined['X0_mean']))\n",
    "\n",
    "train_X0Mean = mean_joined[mean_joined.columns[-1:]][:num_train]\n",
    "test_X0Mean = mean_joined[mean_joined.columns[-1:]][num_train:]\n",
    "test_X0Mean.index = range(test_X0Mean.shape[0])"
   ]
  },
  {
   "cell_type": "code",
   "execution_count": 34,
   "metadata": {
    "collapsed": true,
    "deletable": true,
    "editable": true
   },
   "outputs": [],
   "source": [
    "df_all.drop(['y'], axis=1, inplace=True)"
   ]
  },
  {
   "cell_type": "code",
   "execution_count": 35,
   "metadata": {
    "collapsed": false,
    "deletable": true,
    "editable": true,
    "scrolled": false
   },
   "outputs": [],
   "source": [
    "'''\n",
    "## FIRST ##\n",
    "Every Features + PCA/MCA + (Log Transformation)\n",
    "'''\n",
    "\n",
    "all_features_df = pd.get_dummies(df_all)\n",
    "train = all_features_df[:num_train]\n",
    "test  = all_features_df[num_train:]\n",
    "test.index = range(test.shape[0])\n",
    "\n",
    "train_pca, test_pca, train_mca, test_mca = generate_decomp(train, test)\n",
    "\n",
    "dtrain = pd.concat([train, train_pca, train_mca], axis=1)\n",
    "dtest = pd.concat([test, test_pca, test_mca], axis=1)"
   ]
  },
  {
   "cell_type": "code",
   "execution_count": 36,
   "metadata": {
    "collapsed": false,
    "deletable": true,
    "editable": true
   },
   "outputs": [],
   "source": [
    "# xgboost = xgb.sklearn.XGBRegressor(objective        = 'reg:linear', \n",
    "#                                    min_child_weight = 0.5,\n",
    "#                                    max_depth        = 4,\n",
    "#                                    learning_rate    = 0.01,\n",
    "#                                    subsample        = 0.9,\n",
    "#                                    n_estimators     = 550,\n",
    "#                                    seed             = 0,\n",
    "#                                    base_score       = np.mean(target),\n",
    "#                                    nthread          = -1)\n",
    "\n",
    "# xgboost_log = xgb.sklearn.XGBRegressor(objective     = 'reg:linear',\n",
    "#                                        max_depth     = 4,\n",
    "#                                        learning_rate = 0.01,\n",
    "#                                        n_estimators  = 760,\n",
    "#                                        seed          = 0,\n",
    "#                                        base_score    = np.mean(np.log1p(target)),\n",
    "#                                        nthread       = -1)\n",
    "\n",
    "xgboost = xgb.sklearn.XGBRegressor(objective        = 'reg:linear',\n",
    "                                   max_depth        = 3,\n",
    "                                   learning_rate    = 0.01,\n",
    "                                   subsample        = 0.9,\n",
    "                                   n_estimators     = 400,\n",
    "                                   seed             = 0,\n",
    "                                   base_score       = np.mean(target),\n",
    "                                   nthread          = -1)\n",
    "\n",
    "xgboost_log = xgb.sklearn.XGBRegressor(objective     = 'reg:linear',\n",
    "                                       max_depth     = 3,\n",
    "                                       learning_rate = 0.01,\n",
    "                                       n_estimators  = 410,\n",
    "                                       seed          = 0,\n",
    "                                       subsample     = 0.9,\n",
    "                                       base_score    = np.mean(np.log1p(target)),\n",
    "                                       nthread       = -1)\n",
    "\n",
    "rf = RandomForestRegressor(n_estimators = 800,\n",
    "                           max_depth    = 4,\n",
    "                           max_features = 'auto',\n",
    "                           n_jobs       = -1)\n",
    "\n",
    "alphas_ridge = np.exp(np.linspace(3, -3, 300))\n",
    "ridge = RidgeCV(alphas    = alphas_ridge,\n",
    "                scoring   = 'r2',\n",
    "                normalize = False)"
   ]
  },
  {
   "cell_type": "code",
   "execution_count": 37,
   "metadata": {
    "collapsed": false,
    "deletable": true,
    "editable": true
   },
   "outputs": [],
   "source": [
    "stack_train = pd.DataFrame(index=np.arange(len(train)))\n",
    "stack_test  = pd.DataFrame(index=np.arange(len(test)))"
   ]
  },
  {
   "cell_type": "code",
   "execution_count": 38,
   "metadata": {
    "collapsed": false,
    "deletable": true,
    "editable": true
   },
   "outputs": [],
   "source": [
    "models = [xgboost, rf, ridge]\n",
    "models_description = ['XGB1', 'RF1', 'Ridge1']"
   ]
  },
  {
   "cell_type": "code",
   "execution_count": 39,
   "metadata": {
    "collapsed": false,
    "deletable": true,
    "editable": true
   },
   "outputs": [
    {
     "data": {
      "text/plain": [
       "(4209, 590)"
      ]
     },
     "execution_count": 39,
     "metadata": {},
     "output_type": "execute_result"
    }
   ],
   "source": [
    "dtest.shape"
   ]
  },
  {
   "cell_type": "code",
   "execution_count": 40,
   "metadata": {
    "collapsed": false,
    "deletable": true,
    "editable": true
   },
   "outputs": [],
   "source": [
    "kfold = KFold(n_splits=5, random_state=0, shuffle=True)\n",
    "\n",
    "for model in models :\n",
    "        name = models_description[models.index(model)]\n",
    "        stack_train[name] = 0  # Initialize\n",
    "        \n",
    "        regr = clone(model)\n",
    "        regr.fit(dtrain, target)\n",
    "        pred = regr.predict(dtest)\n",
    "        stack_test[name] = pred\n",
    "        \n",
    "        for train_idx, holdout_idx in kfold.split(dtrain, target) :\n",
    "            regr = clone(model)\n",
    "            regr.fit(dtrain.iloc[train_idx], target[train_idx])\n",
    "            tmp = regr.predict(dtrain.iloc[holdout_idx])\n",
    "            stack_train[name][holdout_idx] = tmp"
   ]
  },
  {
   "cell_type": "code",
   "execution_count": 41,
   "metadata": {
    "collapsed": true,
    "deletable": true,
    "editable": true
   },
   "outputs": [],
   "source": [
    "models = [xgboost_log, rf, ridge]\n",
    "models_description = ['XGB2', 'RF2', 'Ridge2']\n",
    "\n",
    "for model in models :\n",
    "        name = models_description[models.index(model)]\n",
    "        stack_train[name] = 0  # Initialize\n",
    "        \n",
    "        regr = clone(model)\n",
    "        regr.fit(dtrain, np.log1p(target))\n",
    "        pred = regr.predict(dtest)\n",
    "        stack_test[name] = np.expm1(pred)\n",
    "        \n",
    "        for train_idx, holdout_idx in kfold.split(dtrain, target) :\n",
    "            regr = clone(model)\n",
    "            regr.fit(dtrain.iloc[train_idx], np.log1p(target[train_idx]))\n",
    "            tmp = regr.predict(dtrain.iloc[holdout_idx])\n",
    "            stack_train[name][holdout_idx] = np.expm1(tmp)"
   ]
  },
  {
   "cell_type": "code",
   "execution_count": 42,
   "metadata": {
    "collapsed": false,
    "deletable": true,
    "editable": true
   },
   "outputs": [],
   "source": [
    "#############################################\n",
    "train, test = load_data(drop=True)\n",
    "\n",
    "# Binary features에 대해서만 Boruta analysis\n",
    "# ID, X0, X1는 무조건 포함\n",
    "fixed_column = pd.Index(['ID', 'X0', 'X2'])\n",
    "binary_train = train[train.columns[9:]]\n",
    "\n",
    "rf_boruta = RandomForestRegressor(n_jobs    = -1,\n",
    "                                  max_depth = 4)\n",
    "\n",
    "feature_selector = BorutaPy(rf_boruta,\n",
    "                            n_estimators ='auto',\n",
    "                            random_state = 0)\n",
    "feature_selector.fit(binary_train.values, target)\n",
    "                     \n",
    "selected_features = binary_train.columns[feature_selector.support_]\n",
    "columns = fixed_column.append(selected_features)"
   ]
  },
  {
   "cell_type": "code",
   "execution_count": 43,
   "metadata": {
    "collapsed": false,
    "deletable": true,
    "editable": true
   },
   "outputs": [],
   "source": [
    "train = train[columns]\n",
    "test  = test[columns]\n",
    "df_all = pd.concat([train, test], axis=0, ignore_index=True)\n",
    "\n",
    "#df_all['group1'] = df_all['X0'].map(lambda s : 1 if s in group1 else 0)\n",
    "#df_all['group2'] = df_all['X0'].map(lambda s : 1 if s in group2 else 0)\n",
    "#df_all['group3'] = df_all['X0'].map(lambda s : 1 if s in group3 else 0)\n",
    "#df_all['group4'] = df_all['X0'].map(lambda s : 1 if s in group4 else 0)\n",
    "\n",
    "all_features_df = pd.get_dummies(df_all)\n",
    "train = all_features_df[:num_train]\n",
    "test  = all_features_df[num_train:]\n",
    "test.index = range(test.shape[0])"
   ]
  },
  {
   "cell_type": "code",
   "execution_count": 44,
   "metadata": {
    "collapsed": false,
    "deletable": true,
    "editable": true
   },
   "outputs": [],
   "source": [
    "dtrain = train.copy()\n",
    "dtest  = test.copy()\n",
    "\n",
    "dtrain = pd.concat([dtrain, train_X0Mean], axis = 1)\n",
    "dtest  = pd.concat([dtest, test_X0Mean], axis = 1)"
   ]
  },
  {
   "cell_type": "code",
   "execution_count": 45,
   "metadata": {
    "collapsed": false,
    "deletable": true,
    "editable": true
   },
   "outputs": [],
   "source": [
    "models = [xgboost, rf, ridge]\n",
    "models_description = ['XGB3', 'RF3', 'Ridge3']\n",
    "\n",
    "for model in models :\n",
    "        name = models_description[models.index(model)]\n",
    "        stack_train[name] = 0  # Initialize\n",
    "        \n",
    "        regr = clone(model)\n",
    "        regr.fit(dtrain, target)\n",
    "        pred = regr.predict(dtest)\n",
    "        stack_test[name] = pred\n",
    "        \n",
    "        for train_idx, holdout_idx in kfold.split(dtrain, target) :\n",
    "            regr = clone(model)\n",
    "            regr.fit(dtrain.iloc[train_idx], target[train_idx])\n",
    "            tmp = regr.predict(dtrain.iloc[holdout_idx])\n",
    "            stack_train[name][holdout_idx] = tmp"
   ]
  },
  {
   "cell_type": "code",
   "execution_count": 46,
   "metadata": {
    "collapsed": false,
    "deletable": true,
    "editable": true,
    "scrolled": false
   },
   "outputs": [],
   "source": [
    "models = [xgboost_log, rf, ridge]\n",
    "models_description = ['XGB4', 'RF4', 'Ridge4']\n",
    "\n",
    "for model in models :\n",
    "        name = models_description[models.index(model)]\n",
    "        stack_train[name] = 0  # Initialize\n",
    "        \n",
    "        regr = clone(model)\n",
    "        regr.fit(dtrain, np.log1p(target))\n",
    "        pred = regr.predict(dtest)\n",
    "        stack_test[name] = np.expm1(pred)\n",
    "        \n",
    "        for train_idx, holdout_idx in kfold.split(dtrain, target) :\n",
    "            regr = clone(model)\n",
    "            regr.fit(dtrain.iloc[train_idx], np.log1p(target[train_idx]))\n",
    "            tmp = regr.predict(dtrain.iloc[holdout_idx])\n",
    "            stack_train[name][holdout_idx] = np.expm1(tmp)"
   ]
  },
  {
   "cell_type": "code",
   "execution_count": 47,
   "metadata": {
    "collapsed": false,
    "deletable": true,
    "editable": true
   },
   "outputs": [],
   "source": [
    "train_pca, test_pca, train_mca, test_mca = generate_decomp(train, test)\n",
    "\n",
    "dtrain = pd.concat([train, train_pca, train_mca, train_X0Mean], axis=1)\n",
    "dtest = pd.concat([test, test_pca, test_mca, test_X0Mean], axis=1)"
   ]
  },
  {
   "cell_type": "code",
   "execution_count": 48,
   "metadata": {
    "collapsed": true,
    "deletable": true,
    "editable": true
   },
   "outputs": [],
   "source": [
    "models = [xgboost, rf, ridge]\n",
    "models_description = ['XGB5', 'RF5', 'Ridge5']\n",
    "\n",
    "for model in models :\n",
    "        name = models_description[models.index(model)]\n",
    "        stack_train[name] = 0  # Initialize\n",
    "        \n",
    "        regr = clone(model)\n",
    "        regr.fit(dtrain, target)\n",
    "        pred = regr.predict(dtest)\n",
    "        stack_test[name] = pred\n",
    "        \n",
    "        for train_idx, holdout_idx in kfold.split(dtrain, target) :\n",
    "            regr = clone(model)\n",
    "            regr.fit(dtrain.iloc[train_idx], target[train_idx])\n",
    "            tmp = regr.predict(dtrain.iloc[holdout_idx])\n",
    "            stack_train[name][holdout_idx] = tmp"
   ]
  },
  {
   "cell_type": "code",
   "execution_count": 49,
   "metadata": {
    "collapsed": true,
    "deletable": true,
    "editable": true
   },
   "outputs": [],
   "source": [
    "models = [xgboost_log, rf, ridge]\n",
    "models_description = ['XGB6', 'RF6', 'Ridge6']\n",
    "\n",
    "for model in models :\n",
    "        name = models_description[models.index(model)]\n",
    "        stack_train[name] = 0  # Initialize\n",
    "        \n",
    "        regr = clone(model)\n",
    "        regr.fit(dtrain, np.log1p(target))\n",
    "        pred = regr.predict(dtest)\n",
    "        stack_test[name] = np.expm1(pred)\n",
    "        \n",
    "        for train_idx, holdout_idx in kfold.split(dtrain, target) :\n",
    "            regr = clone(model)\n",
    "            regr.fit(dtrain.iloc[train_idx], np.log1p(target[train_idx]))\n",
    "            tmp = regr.predict(dtrain.iloc[holdout_idx])\n",
    "            stack_train[name][holdout_idx] = np.expm1(tmp)"
   ]
  },
  {
   "cell_type": "code",
   "execution_count": 50,
   "metadata": {
    "collapsed": false,
    "deletable": true,
    "editable": true
   },
   "outputs": [
    {
     "name": "stdout",
     "output_type": "stream",
     "text": [
      "[0]\ttrain-r2:0.0057076+0.000160303\ttest-r2:0.0052756+0.00117618\n",
      "[100]\ttrain-r2:0.368609+0.0118022\ttest-r2:0.365479+0.0425336\n",
      "[200]\ttrain-r2:0.505962+0.0157144\ttest-r2:0.498982+0.0579439\n",
      "[300]\ttrain-r2:0.560124+0.017107\ttest-r2:0.547971+0.0629586\n",
      "[400]\ttrain-r2:0.583927+0.01734\ttest-r2:0.565876+0.0642772\n",
      "[500]\ttrain-r2:0.596604+0.0170357\ttest-r2:0.572422+0.0643161\n",
      "[600]\ttrain-r2:0.604941+0.0165091\ttest-r2:0.574674+0.0640126\n",
      "[700]\ttrain-r2:0.611908+0.0158446\ttest-r2:0.575088+0.0635029\n",
      "# Iteration: 761 / R2 Score: 0.5752024\n"
     ]
    }
   ],
   "source": [
    "######################################\n",
    "# Second-level regressor!\n",
    "# XGBoost\n",
    "\n",
    "params = {'objective'        : 'reg:linear',\n",
    "          'eta'              : 0.005,\n",
    "          'max_depth'        : 3,\n",
    "          'n_jobs'           : -1,\n",
    "          'subsample'        : 0.9,\n",
    "          'base_score'       : np.mean(target),\n",
    "          #'lambda'           : 1.5,\n",
    "          #'min_child_weight' : 2,\n",
    "          #'alpha'     : 0.1,\n",
    "          #'gamma'     : 1\n",
    "}\n",
    "\n",
    "xtrain_stack = xgb.DMatrix(stack_train, target, feature_names = stack_train.columns)\n",
    "xtest_stack  = xgb.DMatrix(stack_test, feature_names = stack_test.columns)\n",
    "\n",
    "xgb_stack_cv = xgb.cv(params, xtrain_stack,\n",
    "                      nfold                 = 5,\n",
    "                      num_boost_round       = 1000,\n",
    "                      early_stopping_rounds = 40,\n",
    "                      verbose_eval          = 100,\n",
    "                      stratified            = True,\n",
    "                      feval                 = xgb_r2_score,\n",
    "                      maximize              = True\n",
    "                     )\n",
    "\n",
    "print(\"# Iteration: \" + str(len(xgb_stack_cv)) + \" / R2 Score: \" + str(xgb_stack_cv['test-r2-mean'][len(xgb_stack_cv) - 1]))"
   ]
  },
  {
   "cell_type": "code",
   "execution_count": 51,
   "metadata": {
    "collapsed": false,
    "deletable": true,
    "editable": true
   },
   "outputs": [],
   "source": [
    "nrounds = len(xgb_stack_cv)\n",
    "xgb_stack = xgb.train(params, xtrain_stack,\n",
    "                      num_boost_round = nrounds)\n",
    "benz_pred = xgb_stack.predict(xtest_stack)\n",
    "\n",
    "pred_df = pd.DataFrame()\n",
    "pred_df['ID'] = id_test; pred_df['y'] = benz_pred\n",
    "pred_df.to_csv(\"./Submission/stacked_xgb_without_outlier.csv\", index=False)"
   ]
  },
  {
   "cell_type": "code",
   "execution_count": 52,
   "metadata": {
    "collapsed": false,
    "deletable": true,
    "editable": true
   },
   "outputs": [
    {
     "data": {
      "text/plain": [
       "<matplotlib.axes._subplots.AxesSubplot at 0x10c74ef60>"
      ]
     },
     "execution_count": 52,
     "metadata": {},
     "output_type": "execute_result"
    },
    {
     "data": {
      "image/png": "[encoded data removed]",
      "text/plain": [
       "<matplotlib.figure.Figure at 0x10fee86d8>"
      ]
     },
     "metadata": {
      "image/png": {
       "height": 411,
       "width": 721
      }
     },
     "output_type": "display_data"
    }
   ],
   "source": [
    "plt.figure(figsize=(12,7))\n",
    "pred_df['y'].plot(kind = \"hist\", bins = 200)"
   ]
  },
  {
   "cell_type": "code",
   "execution_count": 53,
   "metadata": {
    "collapsed": false,
    "deletable": true,
    "editable": true,
    "scrolled": false
   },
   "outputs": [
    {
     "name": "stdout",
     "output_type": "stream",
     "text": [
      "Alpha: 0.01216067689 , L1 Ratio: 0.555555555556\n"
     ]
    }
   ],
   "source": [
    "alphas = np.exp(np.linspace(-5, -2.5, 200))\n",
    "l1_ratioes = np.linspace(0, 1, 10)\n",
    "en_stack = ElasticNetCV(alphas       = alphas,\n",
    "                        #cv           = 5,\n",
    "                        l1_ratio     = l1_ratioes,\n",
    "                        n_jobs       = -1,\n",
    "                        positive     = False,\n",
    "                        normalize    = False,\n",
    "                        random_state = 0)\n",
    "en_stack.fit(stack_train, np.log1p(target))\n",
    "print(\"Alpha:\", en_stack.alpha_, \", L1 Ratio:\", en_stack.l1_ratio_)"
   ]
  },
  {
   "cell_type": "code",
   "execution_count": 54,
   "metadata": {
    "collapsed": false,
    "deletable": true,
    "editable": true
   },
   "outputs": [],
   "source": [
    "en_pred = np.expm1(en_stack.predict(stack_test))\n",
    "pred_df2 = pd.DataFrame()\n",
    "pred_df2['ID'] = id_test; pred_df2['y'] = en_pred\n",
    "pred_df2.to_csv(\"./Submission/stacked_en_without_outlier.csv\", index=False)"
   ]
  },
  {
   "cell_type": "code",
   "execution_count": 55,
   "metadata": {
    "collapsed": false,
    "deletable": true,
    "editable": true
   },
   "outputs": [
    {
     "data": {
      "text/plain": [
       "<matplotlib.axes._subplots.AxesSubplot at 0x10c7c7278>"
      ]
     },
     "execution_count": 55,
     "metadata": {},
     "output_type": "execute_result"
    },
    {
     "data": {
      "image/png": "[encoded data removed]",
      "text/plain": [
       "<matplotlib.figure.Figure at 0x10aed0c50>"
      ]
     },
     "metadata": {
      "image/png": {
       "height": 411,
       "width": 721
      }
     },
     "output_type": "display_data"
    }
   ],
   "source": [
    "plt.figure(figsize=(12,7))\n",
    "pred_df2['y'].plot(kind = \"hist\", bins = 200)"
   ]
  },
  {
   "cell_type": "code",
   "execution_count": 56,
   "metadata": {
    "collapsed": false,
    "deletable": true,
    "editable": true
   },
   "outputs": [
    {
     "data": {
      "image/png": "[encoded data removed]",
      "text/plain": [
       "<matplotlib.figure.Figure at 0x10b089cc0>"
      ]
     },
     "metadata": {
      "image/png": {
       "height": 411,
       "width": 721
      }
     },
     "output_type": "display_data"
    }
   ],
   "source": [
    "def weighted_ave(weight = 0.25) :\n",
    "    weighted_df = pd.DataFrame()\n",
    "    weighted_df['ID'] = id_test\n",
    "    weighted = weight * pred_df['y'] + (1 - weight) * pred_df2['y']\n",
    "    weighted_df['y'] = weighted\n",
    "    return weighted_df\n",
    "\n",
    "weighted_df = weighted_ave()\n",
    "plt.figure(figsize=(12,7))\n",
    "weighted_df['y'].plot(kind = \"hist\", bins = 200)\n",
    "weighted_df.to_csv(\"./Submission/stacked_average.csv\", index=False)"
   ]
  },
  {
   "cell_type": "code",
   "execution_count": 57,
   "metadata": {
    "collapsed": false,
    "deletable": true,
    "editable": true
   },
   "outputs": [
    {
     "data": {
      "text/html": [
       "<div>\n",
       "<style>\n",
       "    .dataframe thead tr:only-child th {\n",
       "        text-align: right;\n",
       "    }\n",
       "\n",
       "    .dataframe thead th {\n",
       "        text-align: left;\n",
       "    }\n",
       "\n",
       "    .dataframe tbody tr th {\n",
       "        vertical-align: top;\n",
       "    }\n",
       "</style>\n",
       "<table border=\"1\" class=\"dataframe\">\n",
       "  <thead>\n",
       "    <tr style=\"text-align: right;\">\n",
       "      <th></th>\n",
       "      <th>ID</th>\n",
       "      <th>y</th>\n",
       "    </tr>\n",
       "  </thead>\n",
       "  <tbody>\n",
       "    <tr>\n",
       "      <th>0</th>\n",
       "      <td>1</td>\n",
       "      <td>81.409225</td>\n",
       "    </tr>\n",
       "    <tr>\n",
       "      <th>1</th>\n",
       "      <td>2</td>\n",
       "      <td>97.613773</td>\n",
       "    </tr>\n",
       "    <tr>\n",
       "      <th>2</th>\n",
       "      <td>3</td>\n",
       "      <td>81.375041</td>\n",
       "    </tr>\n",
       "    <tr>\n",
       "      <th>3</th>\n",
       "      <td>4</td>\n",
       "      <td>79.914037</td>\n",
       "    </tr>\n",
       "    <tr>\n",
       "      <th>4</th>\n",
       "      <td>5</td>\n",
       "      <td>112.847521</td>\n",
       "    </tr>\n",
       "    <tr>\n",
       "      <th>5</th>\n",
       "      <td>8</td>\n",
       "      <td>96.410690</td>\n",
       "    </tr>\n",
       "    <tr>\n",
       "      <th>6</th>\n",
       "      <td>10</td>\n",
       "      <td>113.629738</td>\n",
       "    </tr>\n",
       "    <tr>\n",
       "      <th>7</th>\n",
       "      <td>11</td>\n",
       "      <td>96.368432</td>\n",
       "    </tr>\n",
       "    <tr>\n",
       "      <th>8</th>\n",
       "      <td>12</td>\n",
       "      <td>116.938243</td>\n",
       "    </tr>\n",
       "    <tr>\n",
       "      <th>9</th>\n",
       "      <td>14</td>\n",
       "      <td>96.437446</td>\n",
       "    </tr>\n",
       "  </tbody>\n",
       "</table>\n",
       "</div>"
      ],
      "text/plain": [
       "   ID           y\n",
       "0   1   81.409225\n",
       "1   2   97.613773\n",
       "2   3   81.375041\n",
       "3   4   79.914037\n",
       "4   5  112.847521\n",
       "5   8   96.410690\n",
       "6  10  113.629738\n",
       "7  11   96.368432\n",
       "8  12  116.938243\n",
       "9  14   96.437446"
      ]
     },
     "execution_count": 57,
     "metadata": {},
     "output_type": "execute_result"
    }
   ],
   "source": [
    "weighted_df.head(10)"
   ]
  },
  {
   "cell_type": "code",
   "execution_count": 58,
   "metadata": {
    "collapsed": false,
    "deletable": true,
    "editable": true
   },
   "outputs": [
    {
     "name": "stdout",
     "output_type": "stream",
     "text": [
      "Runtime: 601.0 Seconds\n"
     ]
    }
   ],
   "source": [
    "t1 = time.time()\n",
    "print(\"Runtime:\", np.round(t1-t0), \"Seconds\")"
   ]
  }
 ],
 "metadata": {
  "kernelspec": {
   "display_name": "Python 3",
   "language": "python",
   "name": "python3"
  },
  "language_info": {
   "codemirror_mode": {
    "name": "ipython",
    "version": 3
   },
   "file_extension": ".py",
   "mimetype": "text/x-python",
   "name": "python",
   "nbconvert_exporter": "python",
   "pygments_lexer": "ipython3",
   "version": "3.6.1"
  }
 },
 "nbformat": 4,
 "nbformat_minor": 2
}
